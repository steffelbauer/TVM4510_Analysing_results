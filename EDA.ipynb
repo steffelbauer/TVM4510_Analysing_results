{
 "cells": [
  {
   "cell_type": "markdown",
   "id": "e5488a06",
   "metadata": {},
   "source": [
    "### Installing packages"
   ]
  },
  {
   "cell_type": "code",
   "execution_count": null,
   "id": "03a86cb2",
   "metadata": {},
   "outputs": [],
   "source": [
    "# !pip install pandas\n",
    "# !pip install seaborn\n",
    "# !pip install matplotlib"
   ]
  },
  {
   "cell_type": "markdown",
   "id": "b14d11fb",
   "metadata": {},
   "source": [
    "### Importing Packages"
   ]
  },
  {
   "cell_type": "code",
   "execution_count": null,
   "id": "8193e1bf",
   "metadata": {},
   "outputs": [],
   "source": [
    "import numpy as np\n",
    "import pandas as pd\n",
    "import matplotlib.pyplot as plt\n",
    "import seaborn as sns"
   ]
  },
  {
   "cell_type": "markdown",
   "id": "2488edad",
   "metadata": {},
   "source": [
    "### Loading Data"
   ]
  },
  {
   "cell_type": "code",
   "execution_count": null,
   "id": "bffdc6ac",
   "metadata": {},
   "outputs": [],
   "source": [
    "data = pd.read_csv('Iris.csv')\n",
    "data = data.drop('Id', axis=1)  # we don't neet the ID\n",
    "data"
   ]
  },
  {
   "cell_type": "markdown",
   "id": "6b3f5aa6",
   "metadata": {},
   "source": [
    "Datasets included in seaborn: \n",
    "\n",
    "https://github.com/mwaskom/seaborn-data\n"
   ]
  },
  {
   "cell_type": "code",
   "execution_count": null,
   "id": "fe6d190c",
   "metadata": {},
   "outputs": [],
   "source": [
    "data = sns.load_dataset('iris')\n",
    "data"
   ]
  },
  {
   "cell_type": "markdown",
   "id": "9be094fe",
   "metadata": {},
   "source": [
    "### Distinguish attributes"
   ]
  },
  {
   "cell_type": "code",
   "execution_count": null,
   "id": "a2cf56cd",
   "metadata": {},
   "outputs": [],
   "source": [
    "data.info()"
   ]
  },
  {
   "cell_type": "code",
   "execution_count": null,
   "id": "bc97a20c",
   "metadata": {},
   "outputs": [],
   "source": [
    "data.dtypes"
   ]
  },
  {
   "cell_type": "code",
   "execution_count": null,
   "id": "bda07a3c",
   "metadata": {},
   "outputs": [],
   "source": [
    "data.describe()  # works only for nominal data"
   ]
  },
  {
   "cell_type": "code",
   "execution_count": null,
   "id": "f8a2ba0e",
   "metadata": {},
   "outputs": [],
   "source": [
    "data['species'].unique()  # non nominal data"
   ]
  },
  {
   "cell_type": "code",
   "execution_count": null,
   "id": "1148024a",
   "metadata": {},
   "outputs": [],
   "source": [
    "data['species'].value_counts() "
   ]
  },
  {
   "cell_type": "code",
   "execution_count": null,
   "id": "46dfe5a8",
   "metadata": {},
   "outputs": [],
   "source": [
    "onehot_data = pd.get_dummies(data)  # one hot encoding ;)\n",
    "onehot_data"
   ]
  },
  {
   "cell_type": "code",
   "execution_count": null,
   "id": "a921ea54",
   "metadata": {},
   "outputs": [],
   "source": [
    "onehot_data.describe()"
   ]
  },
  {
   "cell_type": "markdown",
   "id": "ebe2d5bc",
   "metadata": {},
   "source": [
    "### Univariate Analysis"
   ]
  },
  {
   "cell_type": "code",
   "execution_count": null,
   "id": "5dbf4440",
   "metadata": {},
   "outputs": [],
   "source": [
    "data.hist(edgecolor='black')\n",
    "fig=plt.gcf()\n",
    "fig.set_size_inches(12,6)"
   ]
  },
  {
   "cell_type": "code",
   "execution_count": null,
   "id": "67093472",
   "metadata": {},
   "outputs": [],
   "source": [
    "sns.scatterplot(x='species', y='sepal_length', data=data)"
   ]
  },
  {
   "cell_type": "code",
   "execution_count": null,
   "id": "292617ad",
   "metadata": {},
   "outputs": [],
   "source": [
    "sns.set_style('whitegrid')  # turn gridlines on"
   ]
  },
  {
   "cell_type": "code",
   "execution_count": null,
   "id": "ab1e8640",
   "metadata": {},
   "outputs": [],
   "source": [
    "sns.boxplot(x='species', y='sepal_length', data=data)"
   ]
  },
  {
   "cell_type": "code",
   "execution_count": null,
   "id": "51a1cb50",
   "metadata": {},
   "outputs": [],
   "source": [
    "sns.swarmplot(x='species', y='sepal_length', data=data)"
   ]
  },
  {
   "cell_type": "code",
   "execution_count": null,
   "id": "22d2f569",
   "metadata": {},
   "outputs": [],
   "source": [
    "sns.violinplot(x='species', y='sepal_length', data=data)"
   ]
  },
  {
   "cell_type": "code",
   "execution_count": null,
   "id": "81786c15",
   "metadata": {},
   "outputs": [],
   "source": [
    "data[data['species']=='setosa'].hist()"
   ]
  },
  {
   "cell_type": "code",
   "execution_count": null,
   "id": "abbd32cf",
   "metadata": {},
   "outputs": [],
   "source": [
    "sns.histplot(data=data, x='sepal_width', hue='species', bins=20)"
   ]
  },
  {
   "cell_type": "code",
   "execution_count": null,
   "id": "bae5cd54",
   "metadata": {},
   "outputs": [],
   "source": [
    "sns.kdeplot(data=data, x='sepal_width', hue='species')"
   ]
  },
  {
   "cell_type": "code",
   "execution_count": null,
   "id": "73b8392b",
   "metadata": {},
   "outputs": [],
   "source": [
    "data.groupby('species')['sepal_width'].skew()"
   ]
  },
  {
   "cell_type": "code",
   "execution_count": null,
   "id": "963a538c",
   "metadata": {},
   "outputs": [],
   "source": [
    "data.groupby('species').skew()"
   ]
  },
  {
   "cell_type": "markdown",
   "id": "e5dac332",
   "metadata": {},
   "source": [
    "### Bivariate Analysis"
   ]
  },
  {
   "cell_type": "code",
   "execution_count": null,
   "id": "da3e49a6",
   "metadata": {},
   "outputs": [],
   "source": [
    "sns.pairplot(data=data)"
   ]
  },
  {
   "cell_type": "code",
   "execution_count": null,
   "id": "1cbc542a",
   "metadata": {},
   "outputs": [],
   "source": [
    "sns.scatterplot(data=data, x=\"sepal_length\", y=\"petal_width\");"
   ]
  },
  {
   "cell_type": "code",
   "execution_count": null,
   "id": "5bdb8c32",
   "metadata": {},
   "outputs": [],
   "source": [
    "sns.scatterplot(data=data, x=\"sepal_length\", y=\"petal_width\", alpha=0.3)"
   ]
  },
  {
   "cell_type": "code",
   "execution_count": null,
   "id": "69adda15",
   "metadata": {},
   "outputs": [],
   "source": [
    "sns.jointplot(data=data, x=\"sepal_length\", y=\"petal_width\", kind=\"hist\", bins=10)"
   ]
  },
  {
   "cell_type": "code",
   "execution_count": null,
   "id": "6de77304",
   "metadata": {},
   "outputs": [],
   "source": [
    "sns.jointplot(data=data, x=\"sepal_length\", y=\"petal_width\", kind=\"hex\", gridsize=20)"
   ]
  },
  {
   "cell_type": "code",
   "execution_count": null,
   "id": "bba13e81",
   "metadata": {},
   "outputs": [],
   "source": [
    "sns.jointplot(data=data, x=\"sepal_length\", y=\"petal_width\", kind=\"kde\")"
   ]
  },
  {
   "cell_type": "code",
   "execution_count": null,
   "id": "5d740d77",
   "metadata": {},
   "outputs": [],
   "source": [
    "sns.pairplot(data=data, hue='species')"
   ]
  },
  {
   "cell_type": "code",
   "execution_count": null,
   "id": "9d20d55c",
   "metadata": {},
   "outputs": [],
   "source": [
    "sns.jointplot(data=data, x=\"sepal_length\", y=\"petal_width\", kind=\"kde\", hue='species')"
   ]
  },
  {
   "cell_type": "code",
   "execution_count": null,
   "id": "5cec75c2",
   "metadata": {},
   "outputs": [],
   "source": [
    "data.corr()"
   ]
  },
  {
   "cell_type": "code",
   "execution_count": null,
   "id": "29fbc8ac",
   "metadata": {},
   "outputs": [],
   "source": [
    "plt.figure(figsize=(7,4))\n",
    "sns.heatmap(data.corr(), annot=True)"
   ]
  },
  {
   "cell_type": "code",
   "execution_count": null,
   "id": "c4134364",
   "metadata": {},
   "outputs": [],
   "source": [
    "plt.figure(figsize=(7,4))\n",
    "sns.heatmap(data.corr(), annot=True, vmin=-1, vmax=1)"
   ]
  },
  {
   "cell_type": "code",
   "execution_count": null,
   "id": "62035e7f",
   "metadata": {},
   "outputs": [],
   "source": [
    "plt.figure(figsize=(7,4))\n",
    "sns.heatmap(data.corr(), annot=True, vmin=-1, vmax=1, cmap='RdBu')   # use a divergent colormap"
   ]
  },
  {
   "cell_type": "markdown",
   "id": "857e464c",
   "metadata": {},
   "source": [
    "### Outliers"
   ]
  },
  {
   "cell_type": "code",
   "execution_count": null,
   "id": "5f96158e",
   "metadata": {},
   "outputs": [],
   "source": [
    "ax=sns.boxplot(x='species',y='sepal_length',data=data)\n",
    "ax=sns.stripplot(x='species',y='sepal_length',data=data,jitter=True,edgecolor='gray')"
   ]
  },
  {
   "cell_type": "markdown",
   "id": "b6062ac7",
   "metadata": {},
   "source": [
    "### Feature Engineering / Modeling"
   ]
  },
  {
   "cell_type": "code",
   "execution_count": null,
   "id": "5fb4939c",
   "metadata": {},
   "outputs": [],
   "source": [
    "from scipy.stats import linregress\n",
    "\n",
    "x = data['sepal_length']\n",
    "y = data['petal_width']\n",
    "\n",
    "res = linregress(x, y)\n",
    "\n",
    "yhat = res.intercept + res.slope * x\n",
    "\n",
    "plt.plot(x, y, 'ko')\n",
    "plt.plot(x, yhat, 'r', label='fitted line')"
   ]
  },
  {
   "cell_type": "code",
   "execution_count": null,
   "id": "97685438",
   "metadata": {},
   "outputs": [],
   "source": [
    "resid = y - yhat"
   ]
  },
  {
   "cell_type": "code",
   "execution_count": null,
   "id": "1a9110b7",
   "metadata": {},
   "outputs": [],
   "source": [
    "resid.hist()"
   ]
  },
  {
   "cell_type": "code",
   "execution_count": null,
   "id": "f70cbd27",
   "metadata": {},
   "outputs": [],
   "source": [
    "resid.describe()"
   ]
  },
  {
   "cell_type": "markdown",
   "id": "9011cc2a",
   "metadata": {},
   "source": [
    "### Model performance metrics"
   ]
  },
  {
   "cell_type": "code",
   "execution_count": null,
   "id": "33920f75",
   "metadata": {},
   "outputs": [],
   "source": [
    "bias = np.mean(resid)\n",
    "print(f'BIAS = {bias:.2e}')\n",
    "\n",
    "sse = np.sum(resid ** 2)\n",
    "print(f'SSE = {sse:.2f}')\n",
    "\n",
    "mse = np.mean(resid ** 2)\n",
    "print(f'MSE = {mse:.3f}')\n",
    "\n",
    "rmse = np.sqrt(np.mean(resid ** 2))\n",
    "print(f'RMSE = {rmse:.3f}')\n",
    "\n",
    "mae = np.mean(np.abs(resid))\n",
    "print(f'MAE = {mae:.3f}')\n",
    "\n",
    "ame = np.max(np.abs(resid))\n",
    "print(f'AME = {ame:.3f}')"
   ]
  },
  {
   "cell_type": "markdown",
   "id": "fb24b889",
   "metadata": {},
   "source": [
    "## Presenting Results"
   ]
  },
  {
   "cell_type": "code",
   "execution_count": null,
   "id": "aed2a5f7",
   "metadata": {},
   "outputs": [],
   "source": [
    "print(f\"R-squared: {res.rvalue**2:.6f}\")"
   ]
  },
  {
   "cell_type": "code",
   "execution_count": null,
   "id": "4e620467",
   "metadata": {},
   "outputs": [],
   "source": [
    "print(f\"slope (95%): {res.slope:.6f} +/- {2*res.stderr:.6f}\")\n",
    "print(f\"intercept (95%): {res.intercept:.6f} +/- {2*res.intercept_stderr:.6f}\")"
   ]
  },
  {
   "cell_type": "markdown",
   "id": "76c0862b",
   "metadata": {},
   "source": [
    "use only significant digits"
   ]
  },
  {
   "cell_type": "code",
   "execution_count": null,
   "id": "3a8c3512",
   "metadata": {},
   "outputs": [],
   "source": [
    "print(f\"slope (95%): {res.slope:.2f} +/- {2*res.stderr:.2f}\")"
   ]
  },
  {
   "cell_type": "code",
   "execution_count": null,
   "id": "391e981f",
   "metadata": {},
   "outputs": [],
   "source": [
    "# Two-sided inverse Students t-distribution\n",
    "# p - probability, df - degrees of freedom\n",
    "\n",
    "from scipy.stats import t\n",
    "tinv = lambda p, df: abs(t.ppf(p/2, df))"
   ]
  },
  {
   "cell_type": "code",
   "execution_count": null,
   "id": "b225f9fa",
   "metadata": {},
   "outputs": [],
   "source": [
    "ts = tinv(0.05, len(x)-2)\n",
    "print(f\"slope (95%): {res.slope:.6f} +/- {ts*res.stderr:.6f}\")"
   ]
  },
  {
   "cell_type": "code",
   "execution_count": null,
   "id": "022c8cee",
   "metadata": {},
   "outputs": [],
   "source": [
    "print(f\"intercept (95%): {res.intercept:.6f} +/- {ts*res.intercept_stderr:.6f}\")"
   ]
  },
  {
   "cell_type": "code",
   "execution_count": null,
   "id": "6f8c423d",
   "metadata": {},
   "outputs": [],
   "source": [
    "sns.lmplot(data=data, x=\"sepal_length\", y=\"petal_width\", x_ci='sd', ci=95)"
   ]
  },
  {
   "cell_type": "markdown",
   "id": "b3793f48",
   "metadata": {},
   "source": [
    "### Other dataset"
   ]
  },
  {
   "cell_type": "markdown",
   "id": "80f8ea99",
   "metadata": {},
   "source": [
    "Time series data - flights"
   ]
  },
  {
   "cell_type": "code",
   "execution_count": null,
   "id": "709afe05",
   "metadata": {},
   "outputs": [],
   "source": [
    "flights = sns.load_dataset(\"flights\")\n",
    "\n",
    "flights"
   ]
  },
  {
   "cell_type": "code",
   "execution_count": null,
   "id": "d633f5a3",
   "metadata": {},
   "outputs": [],
   "source": [
    "flights.info()"
   ]
  },
  {
   "cell_type": "code",
   "execution_count": null,
   "id": "44d19e65",
   "metadata": {},
   "outputs": [],
   "source": [
    "sns.lineplot(data=flights, x='year', y='passengers', ci='sd', err_style='band')\n",
    "sns.scatterplot(data=flights, x='year', y='passengers', hue='month')\n",
    "plt.legend(bbox_to_anchor=(1.05, 1), loc=2, borderaxespad=0.)  # Move legend outside figure"
   ]
  },
  {
   "cell_type": "code",
   "execution_count": null,
   "id": "173daa64",
   "metadata": {},
   "outputs": [],
   "source": [
    "# add datetime to flights constructed from year and month column\n",
    "flights['datetime'] = [pd.to_datetime(f'{x} {y}')  for x, y in  zip(flights['year'], flights['month'])]\n",
    "plt.plot(flights['datetime'], flights['passengers'])\n",
    "plt.xlabel('time')\n",
    "plt.ylabel('# passengers')\n",
    "plt.xlim((pd.to_datetime('1949-1'), pd.to_datetime('1960-12')));"
   ]
  },
  {
   "cell_type": "code",
   "execution_count": null,
   "id": "f02404da",
   "metadata": {},
   "outputs": [],
   "source": [
    "flights_wide = flights.pivot(\"year\", \"month\", \"passengers\")\n",
    "flights_wide.head()"
   ]
  },
  {
   "cell_type": "code",
   "execution_count": null,
   "id": "df081423",
   "metadata": {},
   "outputs": [],
   "source": [
    "sns.lineplot(data=flights_wide, palette='viridis')\n",
    "plt.legend(bbox_to_anchor=(1.05, 1), loc=2, borderaxespad=0.)  # Move legend outside figure"
   ]
  },
  {
   "cell_type": "code",
   "execution_count": null,
   "id": "c6adeac0",
   "metadata": {},
   "outputs": [],
   "source": [
    "sns.lineplot(data=flights_wide.T)\n",
    "plt.legend(bbox_to_anchor=(1.05, 1), loc=2, borderaxespad=0.)  # Move legend outside figure"
   ]
  },
  {
   "cell_type": "code",
   "execution_count": null,
   "id": "ef0f68f0",
   "metadata": {},
   "outputs": [],
   "source": [
    "g = sns.lineplot(data=flights, x='month', y='passengers', hue='year')\n",
    "ax = plt.gca()\n",
    "ax.set_xticks(ax.get_xticks()[::2]);"
   ]
  },
  {
   "cell_type": "code",
   "execution_count": null,
   "id": "1e215354",
   "metadata": {},
   "outputs": [],
   "source": [
    "# Plot each year's time series in its own facet\n",
    "g = sns.relplot(\n",
    "    data=flights,\n",
    "    x=\"month\", y=\"passengers\", col=\"year\", hue=\"year\",\n",
    "    kind=\"line\", palette=\"crest\", linewidth=4, zorder=5,\n",
    "    col_wrap=3, height=2, aspect=1.5, legend=False,\n",
    ")\n",
    "\n",
    "# Iterate over each subplot to customize further\n",
    "for year, ax in g.axes_dict.items():\n",
    "\n",
    "    # Add the title as an annotation within the plot\n",
    "    ax.text(.8, .85, year, transform=ax.transAxes, fontweight=\"bold\")\n",
    "\n",
    "    # Plot every year's time series in the background\n",
    "    sns.lineplot(\n",
    "        data=flights, x=\"month\", y=\"passengers\", units=\"year\",\n",
    "        estimator=None, color=\".7\", linewidth=1, ax=ax,\n",
    "    )\n",
    "\n",
    "# Reduce the frequency of the x axis ticks\n",
    "ax.set_xticks(ax.get_xticks()[::2])\n",
    "\n",
    "# Tweak the supporting aspects of the plot\n",
    "g.set_titles(\"\")\n",
    "g.set_axis_labels(\"\", \"Passengers\")\n",
    "g.tight_layout()"
   ]
  },
  {
   "cell_type": "code",
   "execution_count": null,
   "id": "824067f9",
   "metadata": {
    "scrolled": false
   },
   "outputs": [],
   "source": [
    "quartet = sns.load_dataset(\"anscombe\")\n",
    "\n",
    "# Show the results of a linear regression within each dataset\n",
    "sns.relplot(x=\"x\", y=\"y\", col=\"dataset\", hue=\"dataset\", \n",
    "            data=quartet, col_wrap=2, ci=None, \n",
    "            palette=\"muted\", height=4, s=50, alpha=1);"
   ]
  },
  {
   "cell_type": "code",
   "execution_count": null,
   "id": "77aca260",
   "metadata": {},
   "outputs": [],
   "source": [
    "# Compute correlation for each dataset separately\n",
    "quartet.groupby('dataset').corr()"
   ]
  },
  {
   "cell_type": "code",
   "execution_count": null,
   "id": "4e8b9a5a",
   "metadata": {},
   "outputs": [],
   "source": [
    "# Show the results of a linear regression within each dataset\n",
    "sns.lmplot(x=\"x\", y=\"y\", col=\"dataset\", hue=\"dataset\", data=quartet,\n",
    "           col_wrap=2, ci=None, palette=\"muted\", height=4,\n",
    "           scatter_kws={\"s\": 50, \"alpha\": 1});"
   ]
  },
  {
   "cell_type": "code",
   "execution_count": null,
   "id": "fca070a8",
   "metadata": {},
   "outputs": [],
   "source": []
  }
 ],
 "metadata": {
  "kernelspec": {
   "display_name": "Python 3",
   "language": "python",
   "name": "python3"
  },
  "language_info": {
   "codemirror_mode": {
    "name": "ipython",
    "version": 3
   },
   "file_extension": ".py",
   "mimetype": "text/x-python",
   "name": "python",
   "nbconvert_exporter": "python",
   "pygments_lexer": "ipython3",
   "version": "3.8.8"
  }
 },
 "nbformat": 4,
 "nbformat_minor": 5
}
